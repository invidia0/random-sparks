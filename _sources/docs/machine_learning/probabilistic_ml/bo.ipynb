{
 "cells": [
  {
   "cell_type": "markdown",
   "id": "b708619b",
   "metadata": {},
   "source": [
    "# Bayesian Optimization\n",
    "`````{admonition} Bayesian Optimization - Summary\n",
    ":class: tip\n",
    "- Optimizes expensive black-box functions\n",
    "- Uses surrogate model (typically Gaussian Processes)\n",
    "- Balance exploration vs exploitation via acquisition functions\n",
    "- Efficient for hyperparameter tuning, experimental design, etc.\n",
    "`````"
   ]
  },
  {
   "cell_type": "code",
   "execution_count": null,
   "id": "db14be79",
   "metadata": {},
   "outputs": [],
   "source": [
    "import numpy as np\n",
    "\n",
    "t = np."
   ]
  }
 ],
 "metadata": {
  "language_info": {
   "name": "python"
  }
 },
 "nbformat": 4,
 "nbformat_minor": 5
}
